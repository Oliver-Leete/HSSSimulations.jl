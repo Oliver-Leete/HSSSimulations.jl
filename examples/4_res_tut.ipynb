{
 "cells": [
  {
   "cell_type": "markdown",
   "source": [
    "# Tutorial 4: Saving More Results"
   ],
   "metadata": {}
  },
  {
   "outputs": [],
   "cell_type": "code",
   "source": [
    "using Pkg\n",
    "Pkg.dev(\"https://github.com/Oliver-Leete/HSSSimulations.jl.git\")\n",
    "using HSSSimulations\n",
    "using .Types\n",
    "using .Results\n",
    "using .HSSBound"
   ],
   "metadata": {},
   "execution_count": null
  },
  {
   "cell_type": "markdown",
   "source": [
    "## Overview\n",
    "\n",
    "This tutorial will go over both of the ways to save data from the simulation. One method\n",
    "saves results for every time step (well, the ones that the results aren't skipped for) of the\n",
    "simulation. The other, simpler, method saves some results at the end of the simulation.\n",
    "\n",
    "For this tutorial we will save some of the information about the overhead heaters. The temperature\n",
    "of the heaters will be saved at every time step. And a list of layers where the power was updated\n",
    "will be saved (along) with every layer that they're saved for.\n",
    "\n",
    "## Setting Up the Time Step Results\n",
    "\n",
    "To store results for each time step we will need to make a new `AbstractResult` type. This\n",
    "is very similar to the built in `Result` type, with the addition of the `O` field, where\n",
    "we'll store the overhead heater temperature. This has to be an array of some kind instead of just\n",
    "a float64 to allow for the value to be mutable (so we can update it once it has been calculated)."
   ],
   "metadata": {}
  },
  {
   "outputs": [],
   "cell_type": "code",
   "source": [
    "struct OverheadResult{P<:AbstractArray,V<:AbstractArray} <: AbstractResult\n",
    "    \"Temperature\"\n",
    "    T::P\n",
    "    \"Melt state\"\n",
    "    M::P\n",
    "    \"Consolidation state\"\n",
    "    C::P\n",
    "    \"Overhead Heater Temperature\"\n",
    "    O::V\n",
    "    \"Time of timestep\"\n",
    "    t::Float64\n",
    "    \"The progress through the load step (0=start, 1=end)\"\n",
    "    tₚ::Float64\n",
    "end"
   ],
   "metadata": {},
   "execution_count": null
  },
  {
   "cell_type": "markdown",
   "source": [
    "!!! warning\n",
    "\n",
    "    As this struct is what stores the data during the simulation, all subtypes **MUST** have the\n",
    "    `T`, `t` and `tₚ` fields, and if you want to use it with the default material model it will\n",
    "    also need the `M` and `C` fields.\n",
    "\n",
    "In addition, we'll also need some constructors for our new type, one empty one that is used in the\n",
    "simulation code:"
   ],
   "metadata": {}
  },
  {
   "outputs": [],
   "cell_type": "code",
   "source": [
    "function OverheadResult(geomSize, t, tₚ)\n",
    "    T = Array{Float64}(undef, geomSize...)\n",
    "    M = Array{Float64}(undef, geomSize...)\n",
    "    C = Array{Float64}(undef, geomSize...)\n",
    "    O = Vector{Float64}(undef, 1)\n",
    "    return OverheadResult{typeof(T),typeof(O)}(T, M, C, O, t, tₚ)\n",
    "end"
   ],
   "metadata": {},
   "execution_count": null
  },
  {
   "cell_type": "markdown",
   "source": [
    "And one to create one filled with given values, that we'll use to create our initial conditions\n",
    "result:"
   ],
   "metadata": {}
  },
  {
   "outputs": [],
   "cell_type": "code",
   "source": [
    "function OverheadResult(geomSize, Tᵢ, Mᵢ, Cᵢ, t, tₚ)\n",
    "    T = fill(Tᵢ, geomSize)\n",
    "    M = fill(Mᵢ, geomSize)\n",
    "    C = fill(Cᵢ, geomSize)\n",
    "    O = Vector{Float64}(undef, 1)\n",
    "    return OverheadResult{typeof(T),typeof(O)}(T, M, C, O, t, tₚ)\n",
    "end"
   ],
   "metadata": {},
   "execution_count": null
  },
  {
   "cell_type": "markdown",
   "source": [
    "## Recording the Time Step Results\n",
    "\n",
    "We have the new types ready to store the data, so now we can update some functions to actually\n",
    "fill them with data. The function we care about is the one that finds the new temperature for the\n",
    "overhead heaters, which conveniently is just one of the arguments to HSSParams. So we can just\n",
    "make a function that we'll pass in when calling `HSSParams`. This is basically just the\n",
    "default function, but with the added step `cts.O[1] = oveheadTemp` to save our result."
   ],
   "metadata": {}
  },
  {
   "outputs": [],
   "cell_type": "code",
   "source": [
    "function overheadHeatupFunc(powerIn::Float64, prevOverheadTemp::Float64, cts)\n",
    "    overheadTemp = HSSBound.overheadTempFunc(\n",
    "        powerIn,\n",
    "        x -> (0.596x - 12.2),\n",
    "        118.923,\n",
    "        geometry.Δt,\n",
    "        prevOverheadTemp,\n",
    "    )\n",
    "    cts.O[1] = overheadTemp\n",
    "    return overheadTemp\n",
    "end"
   ],
   "metadata": {},
   "execution_count": null
  },
  {
   "cell_type": "markdown",
   "source": [
    "As well as recording the results, we also need to save them. This is done with the\n",
    "`Results.loadStepSaver` function. We can create a method for this function that uses our\n",
    "`OverheadResult` type. Although it can't be dispatched on directly, instead we dispatch on a type\n",
    "from the `StructArrays` package, with our type as its type parameter. This is handily rexported by\n",
    "the Results module, so we can use it from there.\n",
    "\n",
    "The `Results.loadStepSaver` function is given a folder of the output file that we can then\n",
    "save the contents of `loadResults` to. `loadResults` is acts as a struct who's fields are vectors\n",
    "of the fields of our `OverheadResult` struct. But we can use `stack` to turn the vectors of arrays\n",
    "into higher dimension arrays before saving them. This will make them the right format to work with\n",
    "the built in post processing functions."
   ],
   "metadata": {}
  },
  {
   "outputs": [],
   "cell_type": "code",
   "source": [
    "function Results.loadStepSaver(\n",
    "    loadResultsFolder,\n",
    "    loadResults::Results.StructVector{T},\n",
    ") where {T<:OverheadResult}\n",
    "    loadResultsFolder[\"time\"] = loadResults.t\n",
    "    loadResultsFolder[\"T\"] = stack(loadResults.T)\n",
    "    loadResultsFolder[\"M\"] = stack(loadResults.M)\n",
    "    loadResultsFolder[\"C\"] = stack(loadResults.C)\n",
    "    loadResultsFolder[\"O\"] = stack(loadResults.O)\n",
    "    return\n",
    "end"
   ],
   "metadata": {},
   "execution_count": null
  },
  {
   "cell_type": "markdown",
   "source": [
    "Before this function is called, the name of the load has already been saved to the name field, so\n",
    "we don't have to worry about that here (just don't try and save something else to the name field\n",
    "here, it will error)."
   ],
   "metadata": {}
  },
  {
   "cell_type": "markdown",
   "source": [
    "## Saving Results at the End\n",
    "\n",
    "Compared to saving results for every time step, saving results at the end is much easier.\n",
    "The downside is that we can only save things that we have access to at the end. And the\n",
    "only things we have access to at the end are the contents of `Problem`. Luckely,\n",
    "there is a placeholder field in `Problem` called `otherResults`. To use this we can make an\n",
    "`AbstractOtherResults` that stores whatever data we want. For this we'll make one that\n",
    "stores some information about the overhead heater controller.\n",
    "\n",
    "We'll store a list of layers that caused the overhead heater to update, along with the time of the\n",
    "update and the new power."
   ],
   "metadata": {}
  },
  {
   "outputs": [],
   "cell_type": "code",
   "source": [
    "struct OverheadContRes <: AbstractOtherResults\n",
    "    layerChanged::Vector{Int}\n",
    "    timeChanged::Vector{Float64}\n",
    "    newPower::Vector{Float64}\n",
    "end"
   ],
   "metadata": {},
   "execution_count": null
  },
  {
   "cell_type": "markdown",
   "source": [
    "To save this data we will use the HSSBound module and make a new version of the constructor for\n",
    "`HSSBound.OverheadsBoundary` that dispatches on our new type. This is just the same as the\n",
    "default method, but with three `push!` statements added."
   ],
   "metadata": {}
  },
  {
   "outputs": [],
   "cell_type": "code",
   "source": [
    "function HSSBound.OverheadsBoundary(\n",
    "    pts::AbstractResult,\n",
    "    cts::AbstractResult,\n",
    "    prob::Problem{T,Gh,Mp,R,OR,B},\n",
    "    ls::Types.LoadStep,\n",
    ") where {T<:Any,Gh<:Any,Mp<:Any,R<:Any,OR<:OverheadContRes,B<:Any}\n",
    "    param = prob.params"
   ],
   "metadata": {},
   "execution_count": null
  },
  {
   "cell_type": "markdown",
   "source": [
    "Overhead update logic"
   ],
   "metadata": {}
  },
  {
   "outputs": [],
   "cell_type": "code",
   "source": [
    "    if ls.layerNum - param.overheadLayerStep >= param.lastUpdatedOverhead\n",
    "        param.lastUpdatedOverhead = ls.layerNum\n",
    "        surfaceCurrent = pts.T[ls.ind.z₂[1][1]]\n",
    "        if surfaceCurrent > (param.surfaceTarget + param.surfaceTol)\n",
    "            overheadPower = param.overheadPower - param.overheadPowerStep\n",
    "        elseif surfaceCurrent < (param.surfaceTarget - param.surfaceTol)\n",
    "            overheadPower = param.overheadPower + param.overheadPowerStep\n",
    "        else\n",
    "            overheadPower = param.overheadPower\n",
    "        end\n",
    "        param.overheadPower = clamp(overheadPower, 0, param.overheadMaxPower)\n",
    "\n",
    "        push!(prob.otherResults.layerChanged, ls.layerNum)\n",
    "        push!(prob.otherResults.timeChanged, cts.t)\n",
    "        push!(prob.otherResults.newPower, param.overheadPower)\n",
    "\n",
    "        @debug \"Overhead Power updated\" _group = \"hss\" surfaceCurrent overheadPower\n",
    "    end\n",
    "    overheadTemp = param.overheadHeatupFunc(param.overheadPower, param.overheadTemp, cts)\n",
    "    param.overheadTemp = overheadTemp\n",
    "\n",
    "    airTemp = param.airHeat(cts.t)\n",
    "    surfaceTemp = param.surfaceHeat(cts.t)\n",
    "    ε = prob.matProp.ε\n",
    "    h = param.convectionCoef\n",
    "    Po = param.percentOverhead\n",
    "\n",
    "    @debug \"OverheadsBoundary\" _group = \"hss\" cts.tₚ overheadTemp surfaceTemp airTemp\n",
    "    return OverheadsBoundary(overheadTemp, surfaceTemp, ε, airTemp, h, Po)\n",
    "end"
   ],
   "metadata": {},
   "execution_count": null
  },
  {
   "cell_type": "markdown",
   "source": [
    "Also, the other contents of a few of `Problem`'s fields can be customised by us, the `matProp`\n",
    "field contains the `AbstractMatProp` struct for the simulation, and the `params` field\n",
    "contains the simulation's `AbstractProblemParams` struct. So if we were making a new\n",
    "material model then we could use it's struct to store something and then save it all at the end,\n",
    "or the same for boundary conditions with the parameters struct.\n",
    "\n",
    "In addition to our `otherResults` struct, we will also save a couple of things that are already\n",
    "available from the default structs. The maximum melt state is from the `MatProp` struct\n",
    "(and is normally saved by this function anyway), and `coolStart` is from the `HSSParams`\n",
    "struct (and is not normally saved).\n",
    "\n",
    "We'll make a method for `otherResults` that dispatches on our `OverheadContRes` struct.\n",
    "This method saves `MeltMax` and `CoolStart` to the top level results folder of the output file,\n",
    "and all of our overhead controller stuff to its own subfolder of the results."
   ],
   "metadata": {}
  },
  {
   "outputs": [],
   "cell_type": "code",
   "source": [
    "function Results.otherResults(\n",
    "    prob::Types.Problem{T,Gh,Mp,R,OR,B},\n",
    "    file,\n",
    ") where {T<:Any,Gh<:Any,Mp<:Any,R<:Any,OR<:OverheadContRes,B<:Any}\n",
    "    file[\"MeltMax\"] = prob.matProp.Mₘ\n",
    "    file[\"CoolStart\"] = prob.params.coolStart\n",
    "    file[\"Overheads/layerChanged\"] = prob.otherResults.layerChanged\n",
    "    file[\"Overheads/timeChanged\"] = prob.otherResults.timeChanged\n",
    "    file[\"Overheads/newPower\"] = prob.otherResults.newPower\n",
    "    return\n",
    "end"
   ],
   "metadata": {},
   "execution_count": null
  },
  {
   "cell_type": "markdown",
   "source": [
    "If we didn't want to store any data outside of what is incleded anyway from the material property\n",
    "or parameters struct, then we could have just made our new `AbstractOtherResults` struct empty and\n",
    "still used it to dispatch a method for `Results.otherResults`.\n",
    "\n",
    "In fact, as the default `OtherResults` struct is empty and isn't used, you can replace it\n",
    "with an empty struct of your own to use to dispatch methods of other functions. So if you wanted\n",
    "to change the behavour of one of the boundaries, or of the material model, but don't want to have\n",
    "to replace those structs, then just use the `otherResults`. I'll leave it as an exercise for the\n",
    "reader to rewrite the previous tutorial using this method to make things shorter."
   ],
   "metadata": {}
  },
  {
   "cell_type": "markdown",
   "source": [
    "## The Rest of the Setup\n",
    "\n",
    "From here on it's similar to our other simulations. The one exceptions being the fact that we need\n",
    "to pass our `overheadHeatupFunc` into `HSSParams` and the fact that we need to pass an\n",
    "empty `OverheadContRes` into the problem. Creating a `Geometry` first to feed into the\n",
    "`HSSParams`. We'll also change some of the settings of the geometry so that it goes a bit\n",
    "faster but be less accurate, if you want to try this out on a full simulation feel free to use the\n",
    "geometry from the full build tutorial."
   ],
   "metadata": {}
  },
  {
   "outputs": [],
   "cell_type": "code",
   "source": [
    "geometry = Geometry(\n",
    "    (0.016, 0.016, 0.0122),\n",
    "    0.001,\n",
    "    1e-2;\n",
    "    Δz=0.003 / 30,\n",
    "    Δh=0.0001,\n",
    "    offset=(0.0925, 0.1425),\n",
    "    buildSize=(0.200, 0.300),\n",
    "    name=\"30 layers preheat, 50 pre square pad layers 32 layer thich square and 10 post square padding layers\",\n",
    ")"
   ],
   "metadata": {},
   "execution_count": null
  },
  {
   "cell_type": "markdown",
   "source": [
    "Then the new stuff"
   ],
   "metadata": {}
  },
  {
   "outputs": [],
   "cell_type": "code",
   "source": [
    "params = HSSParams(geometry; overheadHeatupFunc=overheadHeatupFunc)\n",
    "otherResults = OverheadContRes(Vector{Int}(), Vector{Float64}(), Vector{Float64}())"
   ],
   "metadata": {},
   "execution_count": null
  },
  {
   "cell_type": "markdown",
   "source": [
    "We also need to make sure to use our new results struct for our initial conditions, this will tell\n",
    "the simulation to use it for the rest of the time steps."
   ],
   "metadata": {}
  },
  {
   "outputs": [],
   "cell_type": "code",
   "source": [
    "init = OverheadResult((geometry.X, geometry.Y, geometry.Z), 25.0, 0.0, 0.0, 0.0, 0)"
   ],
   "metadata": {},
   "execution_count": null
  },
  {
   "cell_type": "markdown",
   "source": [
    "And the rest of it"
   ],
   "metadata": {}
  },
  {
   "outputs": [],
   "cell_type": "code",
   "source": [
    "loadSets = HSSLoads(4, geometry; nrPreheat=90, lenPreheat=10.0, nrCool=90, lenCool=10.0)\n",
    "material = PA2200(geometry)\n",
    "\n",
    "initialLayer = 30\n",
    "\n",
    "inkArray = fill(material.eₚ, (geometry.X, geometry.Y, geometry.Z))\n",
    "inkArray[5:end-4, 5:end-4, 60:end-10] .= material.eᵢ\n",
    "ink = Ink(inkArray, \"Sample square\")\n",
    "\n",
    "file = \"results_tutorial.jld2\"\n",
    "description = \"A simulation to test out saving overhead heater results\"\n",
    "\n",
    "problem = Problem(;\n",
    "    geometry=geometry,\n",
    "    matProp=material,\n",
    "    params=params,\n",
    "    loadSets=loadSets,\n",
    "    init=init,\n",
    "    initLay=initialLayer,\n",
    "    ink=ink,\n",
    "    file=file,\n",
    "    otherResults=otherResults,\n",
    "    description=description,\n",
    ")\n",
    "\n",
    "resultFile, finalResults = problemSolver(problem)"
   ],
   "metadata": {},
   "execution_count": null
  },
  {
   "cell_type": "markdown",
   "source": [
    "---\n",
    "\n",
    "*This notebook was generated using [Literate.jl](https://github.com/fredrikekre/Literate.jl).*"
   ],
   "metadata": {}
  }
 ],
 "nbformat_minor": 3,
 "metadata": {
  "language_info": {
   "file_extension": ".jl",
   "mimetype": "application/julia",
   "name": "julia",
   "version": "1.9.4"
  },
  "kernelspec": {
   "name": "julia-1.9",
   "display_name": "Julia 1.9.4",
   "language": "julia"
  }
 },
 "nbformat": 4
}
