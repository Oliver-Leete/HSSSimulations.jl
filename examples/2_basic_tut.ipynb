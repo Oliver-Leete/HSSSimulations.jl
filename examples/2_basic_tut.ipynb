{
 "cells": [
  {
   "cell_type": "markdown",
   "source": [
    "# Tutorial 2: Warm-up and Cool-down only"
   ],
   "metadata": {}
  },
  {
   "outputs": [],
   "cell_type": "code",
   "source": [
    "using Pkg\n",
    "Pkg.dev(\"https://github.com/Oliver-Leete/HSSSimulations.jl.git\")\n",
    "using HSSSimulations"
   ],
   "metadata": {},
   "execution_count": null
  },
  {
   "cell_type": "markdown",
   "source": [
    "This tutorial will cover how to create a basic simulation problem, solve it, and\n",
    "inspect the results. This basic simulation will only simulate a solid block\n",
    "without, no layers or anything else fancy.\n",
    "\n",
    "## Defining the Problem\n",
    "\n",
    "### Geometry\n",
    "\n",
    "First we'll start by defining the finite difference geometry for the problem.\n",
    "This is done by creating an instance of `Geometry` as shown below. The\n",
    "first argument is the size of the simulation in meters (here it is 10 mm x\n",
    "10 mm x 30 mm), the second is the spacing between the finite difference nodes,\n",
    "and the third is the time step. Finally, a name has been given to make it easier\n",
    "to figure out what we're looking at if we come back to this in the future."
   ],
   "metadata": {}
  },
  {
   "outputs": [],
   "cell_type": "code",
   "source": [
    "geometry = Geometry(\n",
    "    (0.010, 0.010, 0.030),\n",
    "    0.0005,\n",
    "    0.001;\n",
    "    name=\"Basic Simulation Tutorial\",\n",
    ")"
   ],
   "metadata": {},
   "execution_count": null
  },
  {
   "cell_type": "markdown",
   "source": [
    "### Material\n",
    "\n",
    "For the material we will use the default material model along with the example material,\n",
    "`PA2200` (for information on defining a new material or material model see [Material\n",
    "Recipes](@ref)."
   ],
   "metadata": {}
  },
  {
   "outputs": [],
   "cell_type": "code",
   "source": [
    "material = PA2200(geometry)"
   ],
   "metadata": {},
   "execution_count": null
  },
  {
   "cell_type": "markdown",
   "source": [
    "### Boundary and Loads\n",
    "\n",
    "For the boundary conditions we will borrow some things from the boundary example\n",
    "module HSS Boundary."
   ],
   "metadata": {}
  },
  {
   "outputs": [],
   "cell_type": "code",
   "source": [
    "params = HSSParams(\n",
    "    geometry;\n",
    "    overheadPower=300.0,\n",
    "    name=\"Overhead heat and cool\",\n",
    ")"
   ],
   "metadata": {},
   "execution_count": null
  },
  {
   "cell_type": "markdown",
   "source": [
    "First we make the `Types.AbstractProblemParams` we will be using, a\n",
    "`HSSParams` struct (This includes way more than we need here, but it\n",
    "will still work. If you want to define a simpler struct have a look at [Problem\n",
    "Solver Recipes](@ref))."
   ],
   "metadata": {}
  },
  {
   "outputs": [],
   "cell_type": "code",
   "source": [
    "skipper = 20\n",
    "cooldownLoads = vcat(\n",
    "    [HSSBound.loadOverheads(3.0, skipper) for _ in 1:2],\n",
    "    [HSSBound.loadCooldown(3.0, skipper) for _ in 1:2],\n",
    ")"
   ],
   "metadata": {},
   "execution_count": null
  },
  {
   "cell_type": "markdown",
   "source": [
    "Next we make an array of the load conditions we want to simulate. For this\n",
    "example we will be putting all of our loads in the cooldown loads, as we aren't\n",
    "dealing with layers we don't need the build loads, and the preheat loads are run\n",
    "before any layers are deposited, so they can't really be used here.\n",
    "\n",
    "Put simply, this will simulate 1.5 minutes (3x30 seconds) of heating from the\n",
    "overhead heaters (`HSSBound.loadOverheads`) followed by 15 minutes\n",
    "of cooling (`HSSBound.loadCooldown`). The `skipper` is how often the\n",
    "results will be saved, here we are saying to only save one result for every 20\n",
    "time steps (See Why We Skip Some Results for more information on why).\n",
    "\n",
    "### Initial Conditions\n",
    "\n",
    "Next up is the initial results. Before we define them, we'll make life a little\n",
    "easier for ourselves by making a tuple to represent the simulation size (unlike\n",
    "the one we used earlier, this one is the simulation size in number of nodes,\n",
    "instead of in meters)."
   ],
   "metadata": {}
  },
  {
   "outputs": [],
   "cell_type": "code",
   "source": [
    "geomSize = (geometry.X, geometry.Y, geometry.Z)\n",
    "init = Result(geomSize, 25.0, 0.0, 0.0, 0.0, 0)\n",
    "initLay = geometry.Z"
   ],
   "metadata": {},
   "execution_count": null
  },
  {
   "cell_type": "markdown",
   "source": [
    "The initial condition (made as a `Result`) here will set all the\n",
    "simulation to 25 °C and set the melt state and consolidation state to zero.\n",
    "\n",
    "### Ink"
   ],
   "metadata": {}
  },
  {
   "outputs": [],
   "cell_type": "code",
   "source": [
    "inkArray = fill(material.eₚ, geomSize)\n",
    "ink = Ink(inkArray, \"No ink\")"
   ],
   "metadata": {},
   "execution_count": null
  },
  {
   "cell_type": "markdown",
   "source": [
    "We'll use the size tuple again to make an array to hold our `Ink`\n",
    "values. This array stores the emissivity for all the points in the simulation,\n",
    "as we are not printing any ink for this simulation we will just set it all to\n",
    "the powder's emissivity."
   ],
   "metadata": {}
  },
  {
   "cell_type": "markdown",
   "source": [
    "### Construct The Problem\n",
    "\n",
    "With everything set up the last step is to give it a little description, decide where to save the\n",
    "results to and then create the `Problem` (ignore the `geometry.Z`, we'll cover that in the\n",
    "Tutorial 1: Full Build).\n",
    "\n",
    "!!! note\n",
    "\n",
    "    The file path given here will save the results to the temporary directory on a Unix based\n",
    "    system. If you are using windows, or want to save the file elsewhere then you should change\n",
    "    the path."
   ],
   "metadata": {}
  },
  {
   "outputs": [],
   "cell_type": "code",
   "source": [
    "file = tempname()\n",
    "description = \"A basic simulation to teach us how to use this package\"\n",
    "problem = Problem(;\n",
    "    geometry=geometry,\n",
    "    matProp=material,\n",
    "    params=params,\n",
    "    cooldownLoads=cooldownLoads,\n",
    "    init=init,\n",
    "    initLay=geometry.Z,\n",
    "    ink=ink,\n",
    "    file=file,\n",
    "    description=description,\n",
    ")"
   ],
   "metadata": {},
   "execution_count": null
  },
  {
   "cell_type": "markdown",
   "source": [
    "## Solving the Problem\n",
    "\n",
    "Now the complicated bit. We need to run the following:"
   ],
   "metadata": {}
  },
  {
   "outputs": [],
   "cell_type": "code",
   "source": [
    "resultFile, finalResult = problemSolver(problem)"
   ],
   "metadata": {},
   "execution_count": null
  },
  {
   "cell_type": "markdown",
   "source": [
    "No really, that's it. That one line will solve your problems for you (well, your\n",
    "simulation problems). It might take a while, but once it starts solving the\n",
    "loads you should get some nice progress bars to reassure you that it hasn't just\n",
    "crashed.\n",
    "\n",
    "The `resultFile` returned is just the file path to read the results from, as the\n",
    "simulation results can get quite big in their uncompressed form they aren't all\n",
    "kept in memory (also why we set the skip to 20 earlier, otherwise the results\n",
    "would be 20x as big). However, the final time step is returned, captured here in\n",
    "the `finalResult` variable. Just in case you quickly need the end results.\n",
    "\n",
    "## Inspecting the Results\n",
    "\n",
    "Now we have solved the problem, we should probably have a look at what the\n",
    "results were. Firstly we can get a good overview of the results using the"
   ],
   "metadata": {}
  },
  {
   "cell_type": "markdown",
   "source": [
    "---\n",
    "\n",
    "*This notebook was generated using [Literate.jl](https://github.com/fredrikekre/Literate.jl).*"
   ],
   "metadata": {}
  }
 ],
 "nbformat_minor": 3,
 "metadata": {
  "language_info": {
   "file_extension": ".jl",
   "mimetype": "application/julia",
   "name": "julia",
   "version": "1.9.4"
  },
  "kernelspec": {
   "name": "julia-1.9",
   "display_name": "Julia 1.9.4",
   "language": "julia"
  }
 },
 "nbformat": 4
}
