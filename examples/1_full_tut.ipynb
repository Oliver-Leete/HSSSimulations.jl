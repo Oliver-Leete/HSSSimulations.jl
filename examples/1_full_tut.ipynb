{
 "cells": [
  {
   "cell_type": "markdown",
   "source": [
    "# Tutorial 1: Full Build"
   ],
   "metadata": {}
  },
  {
   "outputs": [],
   "cell_type": "code",
   "source": [
    "using HSSSimulations"
   ],
   "metadata": {},
   "execution_count": null
  },
  {
   "cell_type": "markdown",
   "source": [
    "This tutorial will cover how to create a simulation problem, solve it, and inspect the results. It\n",
    "differs from the Tutorial 2: Warm-up and Cool-down only (which I will assume you have gone\n",
    "through) by actually trying to simulate part of a printer build, instead of a contrived situation.\n",
    "This means we'll have preheat loads, layers being added and complex boundary conditions. Whilst\n",
    "the simulation is more complicated, some setup is actually easier, as this is what the package was\n",
    "built for.\n",
    "\n",
    "## Defining the Problem\n",
    "\n",
    "Like before, we'll start by defining the geometry:"
   ],
   "metadata": {}
  },
  {
   "outputs": [],
   "cell_type": "code",
   "source": [
    "geometry = Geometry(\n",
    "    (0.016, 0.016, 0.0122),\n",
    "    0.001,\n",
    "    1.5e-3;\n",
    "    Δz=0.003 / 90,\n",
    "    Δh=0.0001,\n",
    "    offset=(0.0925, 0.1425),\n",
    "    buildSize=(0.200, 0.300),\n",
    "    name=\"30 layers preheat, 50 pre square pad layers 32 layer thich square and 10 post square padding layers\",\n",
    ")"
   ],
   "metadata": {},
   "execution_count": null
  },
  {
   "cell_type": "markdown",
   "source": [
    "There are some additional arguments given here, let's go over them quickly. In\n",
    "the basic simulation we specified the node spacing as the second argument, and\n",
    "this specified the spacing in all three axis. Here we add a `Δz` argument, when\n",
    "this is given it overrides the node spacing for this one axis. This is useful as\n",
    "we want the spacing in the z-axis to be the same as the layer height, but using\n",
    "the same spacing in all axes would limit the size of the simulation. This leads\n",
    "nicely on to `Δh`, which is the layer thickness in meters (100 microns in this\n",
    "case).\n",
    "\n",
    "!!! note\n",
    "\n",
    "    A `Δy` argument can also be given to override the node spacing in the\n",
    "    y-axis. There is no equivalent for the x-axis, instead just give the desired\n",
    "    spacing as the default and use the `Δz` and `Δy` overrides to get the desired\n",
    "    spacing.\n",
    "\n",
    "The last two are the `buildSize` and `offset`. It is often useful to simulate a\n",
    "subset of the build volume (mostly for memory and computational cost reasons),\n",
    "to do this we can specify the true size of the machine (`buildSize`) and where\n",
    "the simulation sits within it (`offset`). Both of these are given in meters.\n",
    "\n",
    "We'll use the other built-in material this time, a version of the PA2200\n",
    "material used before that has the rate of change of consolidation state\n",
    "dependent on more than just temperature."
   ],
   "metadata": {}
  },
  {
   "outputs": [],
   "cell_type": "code",
   "source": [
    "material = PA2200(geometry)"
   ],
   "metadata": {},
   "execution_count": null
  },
  {
   "cell_type": "markdown",
   "source": [
    "This time around we can just use the load sets provided by\n",
    "`HSSLoads`, without having to muck about with it\n",
    "ourselves. Here we define the skip (in this case lets go for 10), and a few\n",
    "extra key word arguments that decide how many preheat and cooldown loads to\n",
    "have, along with how long they should be (so preheat time in this case is 90x10,\n",
    "for 900 seconds total).\n",
    "\n",
    "!!! note\n",
    "\n",
    "    Multiple short loads are used in cases where the load case stays the same\n",
    "    for a while. The solver only saves results from memory to disk in between\n",
    "    loads, so splitting it up reduces the memory requirement (at the cost of a\n",
    "    slight increase in computational cost)."
   ],
   "metadata": {}
  },
  {
   "outputs": [],
   "cell_type": "code",
   "source": [
    "params = HSSParams(geometry)\n",
    "loadSets = HSSLoads(4, geometry; nrPreheat=90, lenPreheat=10.0, nrCool=90, lenCool=10.0)"
   ],
   "metadata": {},
   "execution_count": null
  },
  {
   "cell_type": "markdown",
   "source": [
    "When we specify the initial results, we'll also specify the `initialLayer`, this\n",
    "will be used to tell the simulation how many layers worth of powder should be\n",
    "already deposited at the start of the simulation. Theses are the layers that\n",
    "will be simulated during the preheat load set."
   ],
   "metadata": {}
  },
  {
   "outputs": [],
   "cell_type": "code",
   "source": [
    "geomsize = (geometry.X, geometry.Y, geometry.Z)\n",
    "init = Result(geomsize, 25.0, 0.0, 0.0, 0.0, 0)\n",
    "initialLayer = 30"
   ],
   "metadata": {},
   "execution_count": null
  },
  {
   "cell_type": "markdown",
   "source": [
    "The `Ink` struct for this problem is going to have some actual ink in\n",
    "it. To do this we will fill a subset of the `inkArray` with a value of `1.0`\n",
    "this is making the assumption that our ink is a perfect absorber of our lamp's\n",
    "energy. And we'll also change the name of the `Ink` to represent this."
   ],
   "metadata": {}
  },
  {
   "outputs": [],
   "cell_type": "code",
   "source": [
    "inkArray = fill(material.eₚ, size)\n",
    "inkArray[5:end-4, 5:end-4, 90:end-30] .= material.eᵢ\n",
    "ink = Ink(inkArray, \"Sample square\")"
   ],
   "metadata": {},
   "execution_count": null
  },
  {
   "cell_type": "markdown",
   "source": [
    "And like before we will give the problem a name and description and then create\n",
    "it."
   ],
   "metadata": {}
  },
  {
   "outputs": [],
   "cell_type": "code",
   "source": [
    "file = \"full_build_simulation_tutorial.jld2\"\n",
    "description = \"A full simulation of a sample square\"\n",
    "problem = Problem(;\n",
    "    geometry=geometry,\n",
    "    matProp=material,\n",
    "    params=params,\n",
    "    preheatLoads=preheatLoads,\n",
    "    buildLoads=buildLoads,\n",
    "    cooldownLoads=cooldownLoads,\n",
    "    init=init,\n",
    "    initLay=initialLayer,\n",
    "    ink=ink,\n",
    "    file=file,\n",
    "    description=description,\n",
    ")"
   ],
   "metadata": {},
   "execution_count": null
  },
  {
   "cell_type": "markdown",
   "source": [
    "## Solving the Problem\n",
    "\n",
    "Like before, this part is simple for you. But now it is even more complicated\n",
    "for the computer."
   ],
   "metadata": {}
  },
  {
   "outputs": [],
   "cell_type": "code",
   "source": [
    "resultFile, finalResults = problemSolver(problem)"
   ],
   "metadata": {},
   "execution_count": null
  },
  {
   "cell_type": "markdown",
   "source": [
    "!!! tip \"Performance Tips\"\n",
    "\n",
    "    The simulation will only run on one proccessor, but will run on as many\n",
    "    threads as you can give it. So if you haven't already, try starting juila\n",
    "    with the `--threads=auto` flag to give the simulation more threads to work\n",
    "    with. If you are using a notebook you will need to look into how to make a\n",
    "    kernel that uses multiple threads.\n",
    "\n",
    "    If it is still running too slow you can try playing around with the geometry\n",
    "    sizes, the x and y-axis node spacing or the time step (just be aware that\n",
    "    changing node spacing and time step can lead to unstable simulations,\n",
    "    normally resultsing in an out of bounds error). And if you run into memory\n",
    "    issues you can try increasing the value of `skip` ([Why We Skip Some\n",
    "    Results](@ref))."
   ],
   "metadata": {}
  },
  {
   "cell_type": "markdown",
   "source": [
    "---\n",
    "\n",
    "*This notebook was generated using [Literate.jl](https://github.com/fredrikekre/Literate.jl).*"
   ],
   "metadata": {}
  }
 ],
 "nbformat_minor": 3,
 "metadata": {
  "language_info": {
   "file_extension": ".jl",
   "mimetype": "application/julia",
   "name": "julia",
   "version": "1.9.1"
  },
  "kernelspec": {
   "name": "julia-1.9",
   "display_name": "Julia 1.9.1",
   "language": "julia"
  }
 },
 "nbformat": 4
}
