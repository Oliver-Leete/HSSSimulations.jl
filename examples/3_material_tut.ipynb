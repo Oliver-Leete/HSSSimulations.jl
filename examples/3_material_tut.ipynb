{
 "cells": [
  {
   "cell_type": "markdown",
   "source": [
    "# Tutorial 3: A Melt Rate Based Material Model"
   ],
   "metadata": {}
  },
  {
   "outputs": [],
   "cell_type": "code",
   "source": [
    "using HSSSimulations"
   ],
   "metadata": {},
   "execution_count": null
  },
  {
   "cell_type": "markdown",
   "source": [
    "## Overview\n",
    "\n",
    "This tutorial will cover how to implement the time dependent melt state model introduced in\n",
    "my thesis. To do this, this tutorial builds on top of the full build tutorial by adding a new\n",
    "material property type.\n",
    "\n",
    "This is a proposed solution for the poor results of the melt state results found in my thesis\n",
    "is to model the melt state similarly to how the default material model treats the Consolidation\n",
    "state, making it time dependent. This has not been implemented as the default model as I don't\n",
    "currently have the required data, but if you have the data then you can use this implementation\n",
    "(my thesis should include an idea for how to get the data).\n",
    "\n",
    "## Making the Material Property Struct\n",
    "\n",
    "First up is the addition of a new material property struct and constructor. This is the same as\n",
    "the default one with the only change being the name (for dispatch reasons), and changing the\n",
    "`Mᵣ` and `Rᵣ` fields to `Ṁ` and `Ṙ`.\n",
    "\n",
    "!!! note\n",
    "\n",
    "    There is not actually any functional difference (for this use case, some of the fields have\n",
    "    been removed so this struct wouldn't work with the normal `meltUpdate` function) between this\n",
    "    and the built in `MatProp` type, other than the change of documentation. But by having\n",
    "    a new type we can dispatch on it later on, to allow for our custom logic."
   ],
   "metadata": {}
  },
  {
   "outputs": [],
   "cell_type": "code",
   "source": [
    "struct MatPropTD{T1,T2,T3,T4,T5,T6,T7,T8,T9} <: Types.AbstractMatProp\n",
    "    ρ::T1\n",
    "    c::T2\n",
    "    κ::T3\n",
    "    \"\"\" Melting rate to temp and melt state relationship.\n",
    "    A 2d interpolation, with the first input axis being the temperature adn the\n",
    "    second the current melt state. The output is the melt rate.\n",
    "    \"\"\"\n",
    "    Ḟ::T4\n",
    "    \"\"\" Crystallisation rate to temp, melt state and maximum melt state relationship.\n",
    "    A 3d interpolation, with the first input axis being the node temperature,\n",
    "    the second the current melt state and the third the maximum melt state\n",
    "    reached. The output is the recrystalisation rate.\n",
    "    \"\"\"\n",
    "    Ṙ::T5\n",
    "    Hf::T6\n",
    "    Hr::T7\n",
    "    Ċ::T8\n",
    "    eₚ::Float64\n",
    "    eᵢ::Float64\n",
    "    ε::Float64\n",
    "    name::String\n",
    "    Mₘ::T9\n",
    "end"
   ],
   "metadata": {},
   "execution_count": null
  },
  {
   "cell_type": "markdown",
   "source": [
    "As well as copying the old type, we'll also copy its constructor, to give us a more convineient\n",
    "way of constructing it from our experimental data. Again, this is the same as before, just with a\n",
    "change of name."
   ],
   "metadata": {}
  },
  {
   "outputs": [],
   "cell_type": "code",
   "source": [
    "function MatPropTD(ρ, c, κ, Ṁ, Ṙ, Hf, Hr, Ċ, eₚ, eᵢ, ε, name, geometry)\n",
    "    geomSize = (geometry.X, geometry.Y, geometry.Z)\n",
    "    Mₘ = zeros(geomSize)\n",
    "\n",
    "    return MatPropTD{\n",
    "        typeof(ρ), typeof(c), typeof(κ),\n",
    "        typeof(Ṁ), typeof(Ṙ), typeof(Hf), typeof(Hr),\n",
    "        typeof(Ċ), typeof(Mₘ),\n",
    "    }(\n",
    "        ρ, c, κ,\n",
    "        Ṁ, Ṙ, Hf, Hr,\n",
    "        Ċ,\n",
    "        eₚ, eᵢ, ε,\n",
    "        name, Mₘ,\n",
    "    )\n",
    "end"
   ],
   "metadata": {},
   "execution_count": null
  },
  {
   "cell_type": "markdown",
   "source": [
    "## Adding The New Logic"
   ],
   "metadata": {}
  },
  {
   "cell_type": "markdown",
   "source": [
    "Now we have the new type, we can use it with julia's multiple dispatch to change what method\n",
    "is called when the simulation goes to update the melt state. This is done by making a new\n",
    "method for `Material.meltUpdate` that specifies our new type in place of the default\n",
    "`MatProp` type. Refer to my thesis if you need an explanation as to what has changed\n",
    "here from the default method."
   ],
   "metadata": {}
  },
  {
   "outputs": [],
   "cell_type": "code",
   "source": [
    "function Material.meltUpdate(Mᵗ⁻¹, T, Mₘ, Δt, mp::MatPropTD)\n",
    "    ṀF = mp.Ḟ(T, Mᵗ⁻¹)\n",
    "    ṀR = mp.Ṙ(T, Mᵗ⁻¹, Mₘ)\n",
    "\n",
    "    if ṀF > -ṀR\n",
    "        ΔM = ṀF * Δt\n",
    "        ΔH = ΔM * mp.Hf\n",
    "    else\n",
    "        ΔM = ṀR * Δt\n",
    "        ΔH = ΔM * mp.Hr(Mₘ)\n",
    "    end\n",
    "    Mᵗ = min(max(Mᵗ⁻¹ + ΔM, 0), 1)\n",
    "    Mₘ = max(Mᵗ, Mₘ)\n",
    "\n",
    "    return Mᵗ, Mₘ, Δh\n",
    "end"
   ],
   "metadata": {},
   "execution_count": null
  },
  {
   "cell_type": "markdown",
   "source": [
    "If we needed more arguments to be passed in to this function, or wanted to change other properties\n",
    "of the material model, we could define a new method for `Material.calcMatProps!`. For an\n",
    "example of this, you can check out A Basic Material Model. `Material.consUpdate`\n",
    "is also dispatched on the material property struct, so that can also be modified sepreatly without\n",
    "having to rewrite the entire material model."
   ],
   "metadata": {}
  },
  {
   "cell_type": "markdown",
   "source": [
    "## Making a New Material\n",
    "\n",
    "We'll use PA2200 as our material, using most of the values from the default type. The only changes\n",
    "will be our two melt rate relationship fields. To fill in the values for these fields we'll use\n",
    "interpolated arrays, so first lets add the interpolations package:"
   ],
   "metadata": {}
  },
  {
   "outputs": [],
   "cell_type": "code",
   "source": [
    "using Interpolations"
   ],
   "metadata": {},
   "execution_count": null
  },
  {
   "cell_type": "markdown",
   "source": [
    "Then we can use this to create a 2D interpolation for `Ṁ` that does what we said we want it to\n",
    "do.\n",
    "\n",
    "!!! note\n",
    "\n",
    "    The data presented here is totally fictional and should be replaced with actual data.\n",
    "\n",
    "To do this you will need the values corrisponding to the inputs of the data, so for example if we\n",
    "recorded the melt rate at temperatures of 170°C, 180°C and 190°C then we could define"
   ],
   "metadata": {}
  },
  {
   "outputs": [],
   "cell_type": "code",
   "source": [
    "melt_temps = [170, 180, 190]"
   ],
   "metadata": {},
   "execution_count": null
  },
  {
   "cell_type": "markdown",
   "source": [
    "And if we made those measurements at melt states of 0 and 1"
   ],
   "metadata": {}
  },
  {
   "outputs": [],
   "cell_type": "code",
   "source": [
    "melt_state = [0, 1]"
   ],
   "metadata": {},
   "execution_count": null
  },
  {
   "cell_type": "markdown",
   "source": [
    "We can then define the outputs, what the value of the melt rates measured for each of those\n",
    "states, where the x-axis of the array is the temperature and the y-axis is the melt state. So for\n",
    "this example, we have a melt rate of `0.03` at `M=0` at a temperature of 190°C."
   ],
   "metadata": {}
  },
  {
   "outputs": [],
   "cell_type": "code",
   "source": [
    "melt_rate = [\n",
    "    0 0.02 0.03\n",
    "    0 0.01 0.02\n",
    "]"
   ],
   "metadata": {},
   "execution_count": null
  },
  {
   "cell_type": "markdown",
   "source": [
    "Then we can use these to make the linear interpolation that will be used in the simulation.\n",
    "Where the first argument is a tuple of our inputs and the second is our outputs. The\n",
    "key word argument defines how the values should be extrapolated if an input is given\n",
    "outside of the range of the inputs we've provided. Check out [the Interpolations.jl\n",
    "docs](https://juliamath.github.io/Interpolations.jl/latest/extrapolation/) for more info on these."
   ],
   "metadata": {}
  },
  {
   "outputs": [],
   "cell_type": "code",
   "source": [
    "PA_Ṁ = linear_interpolation(\n",
    "    (melt_temps, melt_state),\n",
    "    melt_rate;\n",
    "    extrapolation_bc=Flat(),\n",
    ")"
   ],
   "metadata": {},
   "execution_count": null
  },
  {
   "cell_type": "markdown",
   "source": [
    "You can test out what this does by trying to index into it with values other than those given, it\n",
    "should return values linearly interpolated between the ones you gave."
   ],
   "metadata": {}
  },
  {
   "outputs": [],
   "cell_type": "code",
   "source": [
    "PA_Ṁ[175, 0.5]"
   ],
   "metadata": {},
   "execution_count": null
  },
  {
   "cell_type": "markdown",
   "source": [
    "Then we can do a similar thing for the recrystalisation rate. Although here we need an extra\n",
    "input, the maximum melt state that was reached before recrystalisation began."
   ],
   "metadata": {}
  },
  {
   "outputs": [],
   "cell_type": "code",
   "source": [
    "recryst_temps = [150, 180]\n",
    "melt_state = [0, 1]\n",
    "melt_max = [0, 1]"
   ],
   "metadata": {},
   "execution_count": null
  },
  {
   "cell_type": "markdown",
   "source": [
    "And because we have an extra input, the output needs to have an extra dimension. The triple\n",
    "semicolon is used to concatinate in the 3rd dimension. So the 2×2 array befor the triple\n",
    "semicolon is the melt rate for a melt max of 0 and the one after is for a melt max of 1."
   ],
   "metadata": {}
  },
  {
   "outputs": [],
   "cell_type": "code",
   "source": [
    "recryst_rate = [\n",
    "    0.1 0;\n",
    "    0.5 0\n",
    "    ;;;\n",
    "    0.2 0;\n",
    "    0.8 0\n",
    "]\n",
    "\n",
    "PA_Ṙ = linear_interpolation(\n",
    "    (recryst_temps, melt_state, melt_max),\n",
    "    recryst_rate;\n",
    "    extrapolation_bc=Flat(),\n",
    ")"
   ],
   "metadata": {},
   "execution_count": null
  },
  {
   "cell_type": "markdown",
   "source": [
    "And like before, we can gives this a go."
   ],
   "metadata": {}
  },
  {
   "outputs": [],
   "cell_type": "code",
   "source": [
    "PA_Ṙ[160, 0.2, 0.733]"
   ],
   "metadata": {},
   "execution_count": null
  },
  {
   "cell_type": "markdown",
   "source": [
    "And finally this can all go together to make our material, but like before we need to make a\n",
    "geometry to pass in to the material propetry constructor."
   ],
   "metadata": {}
  },
  {
   "outputs": [],
   "cell_type": "code",
   "source": [
    "geometry = Geometry(\n",
    "    (0.016, 0.016, 0.0122),\n",
    "    0.001,\n",
    "    1.5e-3;\n",
    "    Δz=0.003 / 90,\n",
    "    Δh=0.0001,\n",
    "    offset=(0.0925, 0.1425),\n",
    "    buildSize=(0.200, 0.300),\n",
    "    name=\"30 layers preheat, 50 pre square pad layers 32 layer thich square and 10 post square padding layers\",\n",
    ")\n",
    "\n",
    "material = MatPropTD(\n",
    "    Material.PA_ρ(),\n",
    "    Material.PA_c(),\n",
    "    Material.PA_κ(),\n",
    "    PA_TD_M,\n",
    "    PA_TD_R,\n",
    "    Material.PA_Hf(),\n",
    "    Material.PA_Hr(),\n",
    "    Material.PA_Ċ,\n",
    "    Material.PA_eₚ,\n",
    "    Material.PA_eᵢ,\n",
    "    Material.PA_ε,\n",
    "    \"Time dependent PA2200\",\n",
    "    geometry,\n",
    ")"
   ],
   "metadata": {},
   "execution_count": null
  },
  {
   "cell_type": "markdown",
   "source": [
    "## The Rest of the Setup\n",
    "\n",
    "From here on it's just the same as our other simulations."
   ],
   "metadata": {}
  },
  {
   "outputs": [],
   "cell_type": "code",
   "source": [
    "params = HSSParams(geometry)\n",
    "loadSets = HSSLoads(4, geometry; nrPreheat=90, lenPreheat=10.0, nrCool=90, lenCool=10.0)\n",
    "\n",
    "size = (geometry.X, geometry.Y, geometry.Z)\n",
    "init = Result(size, 25.0, 0.0, 0.0, 0.0, 0)\n",
    "initialLayer = 10\n",
    "\n",
    "inkArray = fill(material.eₚ, size)\n",
    "inkArray[5:end-4, 5:end-4, 60:end-10] .= material.eᵢ\n",
    "ink = Ink(inkArray, \"Sample square\")\n",
    "\n",
    "file = \"material_model_tutorial.jld2\"\n",
    "description = \"A simulation to test a time dependent melt model\"\n",
    "\n",
    "problem = Problem(;\n",
    "    geometry=geometry,\n",
    "    matProp=material,\n",
    "    params=params,\n",
    "    preheatLoads=preheatLoads,\n",
    "    buildLoads=buildLoads,\n",
    "    cooldownLoads=cooldownLoads,\n",
    "    init=init,\n",
    "    initLay=initialLayer,\n",
    "    ink=ink,\n",
    "    file=file,\n",
    "    description=description,\n",
    ")\n",
    "\n",
    "resultFile, finalResults = problemSolver(problem)"
   ],
   "metadata": {},
   "execution_count": null
  },
  {
   "cell_type": "markdown",
   "source": [
    "---\n",
    "\n",
    "*This notebook was generated using [Literate.jl](https://github.com/fredrikekre/Literate.jl).*"
   ],
   "metadata": {}
  }
 ],
 "nbformat_minor": 3,
 "metadata": {
  "language_info": {
   "file_extension": ".jl",
   "mimetype": "application/julia",
   "name": "julia",
   "version": "1.9.1"
  },
  "kernelspec": {
   "name": "julia-1.9",
   "display_name": "Julia 1.9.1",
   "language": "julia"
  }
 },
 "nbformat": 4
}
